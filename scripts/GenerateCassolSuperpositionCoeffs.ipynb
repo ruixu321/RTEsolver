{
 "cells": [
  {
   "cell_type": "code",
   "execution_count": 5,
   "metadata": {},
   "outputs": [],
   "source": [
    "def printBandOF(coeffs,numBand,file):\n",
    "    file.write('band' + str(numBand) +'\\n')\n",
    "    file.write('{' +'\\n')\n",
    "    file.write('     species' +'\\n')\n",
    "    file.write('     {' +'\\n')\n",
    "    file.write('         grey' +'\\n')\n",
    "    file.write('         {' +'\\n')\n",
    "    file.write('             Tcommon         0.;' +'\\n')\n",
    "    file.write('             Tlow            0.;' +'\\n')\n",
    "    file.write('             Thigh           2500.;' +'\\n')\n",
    "    file.write('             invTemp         false;' +'\\n')\n",
    "    file.write('             loTcoeffs (0 0 0 0 0 0 0 0 0 0 0 0);' +'\\n')\n",
    "    \n",
    "    string = ''\n",
    "    for value in coeffs:\n",
    "        \n",
    "        string = string + str(value) + ' '\n",
    "    file.write('             hiTcoeffs (' + string + ');' +'\\n')\n",
    " \n",
    "    file.write('        }' +'\\n')\n",
    "    file.write('    }' +'\\n')\n",
    "    file.write('}' +'\\n')\n"
   ]
  },
  {
   "cell_type": "code",
   "execution_count": 6,
   "metadata": {},
   "outputs": [],
   "source": [
    "def printBandTxt(coeffs,numBand,file):\n",
    "    \n",
    "    string = ''\n",
    "    for value in coeffs:\n",
    "        \n",
    "        string = string + str(value) + ' '\n",
    "    file.write( string  +'\\n')\n"
   ]
  },
  {
   "cell_type": "code",
   "execution_count": 7,
   "metadata": {},
   "outputs": [],
   "source": [
    "kappa = {}\n",
    "kappa['H2O'] = {}\n",
    "kappa['CO2'] = {}\n",
    "\n",
    "kappa['H2O'][0] = [0.171,0.06617,55.48E-5,-48.41E-8,22.27E-11,-40.17E-15]\n",
    "kappa['H2O'][1] = [1.551,0.11045,0.576E-5,24E-8,-17.01E-11,30.96E-15]\n",
    "kappa['H2O'][2] = [5.562,-0.04915,70.63E-5,-70.12E-8,26.07E-11,-34.94E-15]\n",
    "kappa['H2O'][3] = [49.159,0.23675,-18.91E-5,-0.907E-8,4.082E-11,-8.778E-15]\n",
    "kappa['H2O'][4] = [0,0.36422,107.776E-5,-95.437E-8,35.412E-11,-52.928E-15]\n",
    "\n",
    "\n",
    "kappa['CO2'][0] = [0.138,0.0999,64.41E-5,-86.94E-8,41.27E-11,-67.74E-15]\n",
    "kappa['CO2'][1] = [1.895,0.00942,10.36E-5,-2.277E-8,-2.134E-11,6.497E-15]\n",
    "kappa['CO2'][2] = [13.301,0.14511,-30.73E-5,37.65E-8,-18.41E-11,30.16E-15]\n",
    "kappa['CO2'][3] = [340.811,-0.02915,25.23E-5,-26.1E-8,9.965E-11,-13.26E-15]\n",
    "kappa['CO2'][4] = [0,0.22528,69.27E-5,-77.667E-8,30.691E-11,-44.343E-15]\n",
    "\n",
    "\n"
   ]
  },
  {
   "cell_type": "code",
   "execution_count": 8,
   "metadata": {},
   "outputs": [],
   "source": [
    "kappaNew = {}\n",
    "\n",
    "f = open('bands.dat', 'w')\n",
    "\n",
    "for keyi, tabi in kappa['H2O'].items():\n",
    "    for keyj, tabj in kappa['CO2'].items():\n",
    "        \n",
    "        iBand = keyi*len(kappa['CO2']) + keyj\n",
    "        \n",
    "        temp = []\n",
    "        temp.append(tabi[0])\n",
    "        temp.append(tabj[0])\n",
    "\n",
    "        for idx in range(1,6):\n",
    "            temp.append(tabi[idx])\n",
    "            temp.append(tabj[idx])\n",
    "\n",
    "        kappaNew[iBand] = temp\n",
    "        printBandTxt(kappaNew[iBand],iBand,f)\n",
    "      \n",
    "# loop over bands\n",
    "#temp = [0,0,0,0,0,0]\n",
    "#for idx in range(1,6):\n",
    "#    for key, value in kappaNew.items(): \n",
    "#        temp[idx] = temp[idx] + value[idx]\n",
    "\n",
    "#iBand = iBand\n",
    "#kappaNew[iBand] = temp\n",
    "#printBand(kappaNew[iBand],iBand,f)\n",
    "\n",
    "#f.close()\n",
    "\n",
    "\n",
    "        "
   ]
  },
  {
   "cell_type": "code",
   "execution_count": 9,
   "metadata": {},
   "outputs": [],
   "source": [
    "string = '4*('\n",
    "for x in range(0,25):\n",
    "    if x!=24:\n",
    "        string = string + \"aLambda_[\" + str(x) + ']*ggCoeffLambda_['+ str(x) + ']+\\n'\n",
    "    else:\n",
    "        string = string + \"aLambda_[\" + str(x) + ']*ggCoeffLambda_['+ str(x) + ']\\n'\n",
    "\n",
    "string = string + ')*physicoChemical::sigma'\n",
    "\n",
    "f = open('lambda.dat','w')\n",
    "f.write(string)\n",
    "f.close()\n"
   ]
  },
  {
   "cell_type": "code",
   "execution_count": null,
   "metadata": {},
   "outputs": [],
   "source": []
  }
 ],
 "metadata": {
  "kernelspec": {
   "display_name": "Python 2",
   "language": "python",
   "name": "python2"
  },
  "language_info": {
   "codemirror_mode": {
    "name": "ipython",
    "version": 2
   },
   "file_extension": ".py",
   "mimetype": "text/x-python",
   "name": "python",
   "nbconvert_exporter": "python",
   "pygments_lexer": "ipython2",
   "version": "2.7.14"
  }
 },
 "nbformat": 4,
 "nbformat_minor": 1
}
